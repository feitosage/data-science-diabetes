{
 "cells": [
  {
   "cell_type": "markdown",
   "id": "bfb23727",
   "metadata": {},
   "source": [
    "##  Data Science - Predição a Diabetes"
   ]
  },
  {
   "cell_type": "code",
   "execution_count": 2,
   "id": "11d56d6c",
   "metadata": {},
   "outputs": [
    {
     "name": "stdout",
     "output_type": "stream",
     "text": [
      "Estou utilizando a versão Python: 3.11.5\n"
     ]
    }
   ],
   "source": [
    "# importando bibliotecas\n",
    "import pandas as pd\n",
    "import numpy as np\n",
    "import os as so\n",
    "from platform import python_version\n",
    "import matplotlib.pyplot as plt\n",
    "from sklearn import tree as tr\n",
    "import gradio as gr\n",
    "from sklearn.metrics import accuracy_score\n",
    "\n",
    "print(\"Estou utilizando a versão Python:\", python_version())"
   ]
  },
  {
   "cell_type": "code",
   "execution_count": 3,
   "id": "baebccf8",
   "metadata": {},
   "outputs": [],
   "source": [
    "# Configurando diretório de trabalho\n",
    "\n",
    "caminho = 'D:/data_science/projeto_diabetes'\n",
    "so.chdir(caminho)\n"
   ]
  },
  {
   "cell_type": "code",
   "execution_count": 4,
   "id": "eb6bbbda",
   "metadata": {
    "scrolled": false
   },
   "outputs": [
    {
     "data": {
      "text/html": [
       "<div>\n",
       "<style scoped>\n",
       "    .dataframe tbody tr th:only-of-type {\n",
       "        vertical-align: middle;\n",
       "    }\n",
       "\n",
       "    .dataframe tbody tr th {\n",
       "        vertical-align: top;\n",
       "    }\n",
       "\n",
       "    .dataframe thead th {\n",
       "        text-align: right;\n",
       "    }\n",
       "</style>\n",
       "<table border=\"1\" class=\"dataframe\">\n",
       "  <thead>\n",
       "    <tr style=\"text-align: right;\">\n",
       "      <th></th>\n",
       "      <th>Pregnancies</th>\n",
       "      <th>Glucose</th>\n",
       "      <th>BloodPressure</th>\n",
       "      <th>SkinThickness</th>\n",
       "      <th>Insulin</th>\n",
       "      <th>BMI</th>\n",
       "      <th>DiabetesPedigreeFunction</th>\n",
       "      <th>Age</th>\n",
       "      <th>Outcome</th>\n",
       "    </tr>\n",
       "  </thead>\n",
       "  <tbody>\n",
       "    <tr>\n",
       "      <th>0</th>\n",
       "      <td>6</td>\n",
       "      <td>148</td>\n",
       "      <td>72</td>\n",
       "      <td>35</td>\n",
       "      <td>0</td>\n",
       "      <td>33.6</td>\n",
       "      <td>0.627</td>\n",
       "      <td>50</td>\n",
       "      <td>1</td>\n",
       "    </tr>\n",
       "    <tr>\n",
       "      <th>1</th>\n",
       "      <td>1</td>\n",
       "      <td>85</td>\n",
       "      <td>66</td>\n",
       "      <td>29</td>\n",
       "      <td>0</td>\n",
       "      <td>26.6</td>\n",
       "      <td>0.351</td>\n",
       "      <td>31</td>\n",
       "      <td>0</td>\n",
       "    </tr>\n",
       "    <tr>\n",
       "      <th>2</th>\n",
       "      <td>8</td>\n",
       "      <td>183</td>\n",
       "      <td>64</td>\n",
       "      <td>0</td>\n",
       "      <td>0</td>\n",
       "      <td>23.3</td>\n",
       "      <td>0.672</td>\n",
       "      <td>32</td>\n",
       "      <td>1</td>\n",
       "    </tr>\n",
       "    <tr>\n",
       "      <th>3</th>\n",
       "      <td>1</td>\n",
       "      <td>89</td>\n",
       "      <td>66</td>\n",
       "      <td>23</td>\n",
       "      <td>94</td>\n",
       "      <td>28.1</td>\n",
       "      <td>0.167</td>\n",
       "      <td>21</td>\n",
       "      <td>0</td>\n",
       "    </tr>\n",
       "    <tr>\n",
       "      <th>4</th>\n",
       "      <td>0</td>\n",
       "      <td>137</td>\n",
       "      <td>40</td>\n",
       "      <td>35</td>\n",
       "      <td>168</td>\n",
       "      <td>43.1</td>\n",
       "      <td>2.288</td>\n",
       "      <td>33</td>\n",
       "      <td>1</td>\n",
       "    </tr>\n",
       "  </tbody>\n",
       "</table>\n",
       "</div>"
      ],
      "text/plain": [
       "   Pregnancies  Glucose  BloodPressure  SkinThickness  Insulin   BMI  \\\n",
       "0            6      148             72             35        0  33.6   \n",
       "1            1       85             66             29        0  26.6   \n",
       "2            8      183             64              0        0  23.3   \n",
       "3            1       89             66             23       94  28.1   \n",
       "4            0      137             40             35      168  43.1   \n",
       "\n",
       "   DiabetesPedigreeFunction  Age  Outcome  \n",
       "0                     0.627   50        1  \n",
       "1                     0.351   31        0  \n",
       "2                     0.672   32        1  \n",
       "3                     0.167   21        0  \n",
       "4                     2.288   33        1  "
      ]
     },
     "execution_count": 4,
     "metadata": {},
     "output_type": "execute_result"
    }
   ],
   "source": [
    "# Carregando dataset\n",
    "\n",
    "df = pd.read_csv('diabetes.csv')\n",
    "df.head(5)"
   ]
  },
  {
   "cell_type": "code",
   "execution_count": 5,
   "id": "4dd02f64",
   "metadata": {},
   "outputs": [
    {
     "name": "stdout",
     "output_type": "stream",
     "text": [
      "<class 'pandas.core.frame.DataFrame'>\n",
      "RangeIndex: 768 entries, 0 to 767\n",
      "Data columns (total 9 columns):\n",
      " #   Column                    Non-Null Count  Dtype  \n",
      "---  ------                    --------------  -----  \n",
      " 0   Pregnancies               768 non-null    int64  \n",
      " 1   Glucose                   768 non-null    int64  \n",
      " 2   BloodPressure             768 non-null    int64  \n",
      " 3   SkinThickness             768 non-null    int64  \n",
      " 4   Insulin                   768 non-null    int64  \n",
      " 5   BMI                       768 non-null    float64\n",
      " 6   DiabetesPedigreeFunction  768 non-null    float64\n",
      " 7   Age                       768 non-null    int64  \n",
      " 8   Outcome                   768 non-null    int64  \n",
      "dtypes: float64(2), int64(7)\n",
      "memory usage: 54.1 KB\n"
     ]
    }
   ],
   "source": [
    "# informações sobre os dados\n",
    "df.info() # total de (768 linhas, 10 colunas)"
   ]
  },
  {
   "cell_type": "code",
   "execution_count": 8,
   "id": "050bfbd8",
   "metadata": {},
   "outputs": [
    {
     "data": {
      "text/plain": [
       "Gravidez               0\n",
       "Glicose                0\n",
       "Pressão Sanguínea      0\n",
       "Espessura de Pele      0\n",
       "Insulina               0\n",
       "IMC                    0\n",
       "Percentual Diabetes    0\n",
       "Idade                  0\n",
       "Resultado              0\n",
       "dtype: int64"
      ]
     },
     "execution_count": 8,
     "metadata": {},
     "output_type": "execute_result"
    }
   ],
   "source": [
    "# verificando valores vazios no dataset\n",
    "\n",
    "df.isna().sum()"
   ]
  },
  {
   "cell_type": "code",
   "execution_count": 7,
   "id": "d01bbb8d",
   "metadata": {},
   "outputs": [
    {
     "data": {
      "text/html": [
       "<div>\n",
       "<style scoped>\n",
       "    .dataframe tbody tr th:only-of-type {\n",
       "        vertical-align: middle;\n",
       "    }\n",
       "\n",
       "    .dataframe tbody tr th {\n",
       "        vertical-align: top;\n",
       "    }\n",
       "\n",
       "    .dataframe thead th {\n",
       "        text-align: right;\n",
       "    }\n",
       "</style>\n",
       "<table border=\"1\" class=\"dataframe\">\n",
       "  <thead>\n",
       "    <tr style=\"text-align: right;\">\n",
       "      <th></th>\n",
       "      <th>Gravidez</th>\n",
       "      <th>Glicose</th>\n",
       "      <th>Pressão Sanguínea</th>\n",
       "      <th>Espessura de Pele</th>\n",
       "      <th>Insulina</th>\n",
       "      <th>IMC</th>\n",
       "      <th>Percentual Diabetes</th>\n",
       "      <th>Idade</th>\n",
       "      <th>Resultado</th>\n",
       "    </tr>\n",
       "  </thead>\n",
       "  <tbody>\n",
       "    <tr>\n",
       "      <th>0</th>\n",
       "      <td>6</td>\n",
       "      <td>148</td>\n",
       "      <td>72</td>\n",
       "      <td>35</td>\n",
       "      <td>0</td>\n",
       "      <td>33.6</td>\n",
       "      <td>0.627</td>\n",
       "      <td>50</td>\n",
       "      <td>1</td>\n",
       "    </tr>\n",
       "    <tr>\n",
       "      <th>1</th>\n",
       "      <td>1</td>\n",
       "      <td>85</td>\n",
       "      <td>66</td>\n",
       "      <td>29</td>\n",
       "      <td>0</td>\n",
       "      <td>26.6</td>\n",
       "      <td>0.351</td>\n",
       "      <td>31</td>\n",
       "      <td>0</td>\n",
       "    </tr>\n",
       "    <tr>\n",
       "      <th>2</th>\n",
       "      <td>8</td>\n",
       "      <td>183</td>\n",
       "      <td>64</td>\n",
       "      <td>0</td>\n",
       "      <td>0</td>\n",
       "      <td>23.3</td>\n",
       "      <td>0.672</td>\n",
       "      <td>32</td>\n",
       "      <td>1</td>\n",
       "    </tr>\n",
       "    <tr>\n",
       "      <th>3</th>\n",
       "      <td>1</td>\n",
       "      <td>89</td>\n",
       "      <td>66</td>\n",
       "      <td>23</td>\n",
       "      <td>94</td>\n",
       "      <td>28.1</td>\n",
       "      <td>0.167</td>\n",
       "      <td>21</td>\n",
       "      <td>0</td>\n",
       "    </tr>\n",
       "    <tr>\n",
       "      <th>4</th>\n",
       "      <td>0</td>\n",
       "      <td>137</td>\n",
       "      <td>40</td>\n",
       "      <td>35</td>\n",
       "      <td>168</td>\n",
       "      <td>43.1</td>\n",
       "      <td>2.288</td>\n",
       "      <td>33</td>\n",
       "      <td>1</td>\n",
       "    </tr>\n",
       "  </tbody>\n",
       "</table>\n",
       "</div>"
      ],
      "text/plain": [
       "   Gravidez  Glicose  Pressão Sanguínea  Espessura de Pele  Insulina   IMC  \\\n",
       "0         6      148                 72                 35         0  33.6   \n",
       "1         1       85                 66                 29         0  26.6   \n",
       "2         8      183                 64                  0         0  23.3   \n",
       "3         1       89                 66                 23        94  28.1   \n",
       "4         0      137                 40                 35       168  43.1   \n",
       "\n",
       "   Percentual Diabetes  Idade  Resultado  \n",
       "0                0.627     50          1  \n",
       "1                0.351     31          0  \n",
       "2                0.672     32          1  \n",
       "3                0.167     21          0  \n",
       "4                2.288     33          1  "
      ]
     },
     "execution_count": 7,
     "metadata": {},
     "output_type": "execute_result"
    }
   ],
   "source": [
    "# renomeando colunas\n",
    "df = df.rename(columns={'Pregnancies': 'Gravidez', \n",
    "                        'Glucose': 'Glicose', \n",
    "                        'BloodPressure': \"Pressão Sanguínea\",\n",
    "                        'SkinThickness': \"Espessura de Pele\",\n",
    "                        'Insulin':'Insulina',\n",
    "                        'BMI': 'IMC',\n",
    "                        'DiabetesPedigreeFunction': 'Percentual Diabetes',\n",
    "                        'Age': 'Idade',\n",
    "                        'Outcome':'Resultado'})\n",
    "df.head(5)"
   ]
  },
  {
   "cell_type": "code",
   "execution_count": 9,
   "id": "8dfc6393",
   "metadata": {},
   "outputs": [
    {
     "data": {
      "text/html": [
       "<div>\n",
       "<style scoped>\n",
       "    .dataframe tbody tr th:only-of-type {\n",
       "        vertical-align: middle;\n",
       "    }\n",
       "\n",
       "    .dataframe tbody tr th {\n",
       "        vertical-align: top;\n",
       "    }\n",
       "\n",
       "    .dataframe thead th {\n",
       "        text-align: right;\n",
       "    }\n",
       "</style>\n",
       "<table border=\"1\" class=\"dataframe\">\n",
       "  <thead>\n",
       "    <tr style=\"text-align: right;\">\n",
       "      <th></th>\n",
       "      <th>Gravidez</th>\n",
       "      <th>Glicose</th>\n",
       "      <th>Pressão Sanguínea</th>\n",
       "      <th>Espessura de Pele</th>\n",
       "      <th>Insulina</th>\n",
       "      <th>IMC</th>\n",
       "      <th>Percentual Diabetes</th>\n",
       "      <th>Idade</th>\n",
       "      <th>Resultado</th>\n",
       "      <th>Status</th>\n",
       "    </tr>\n",
       "  </thead>\n",
       "  <tbody>\n",
       "    <tr>\n",
       "      <th>0</th>\n",
       "      <td>6</td>\n",
       "      <td>148</td>\n",
       "      <td>72</td>\n",
       "      <td>35</td>\n",
       "      <td>0</td>\n",
       "      <td>33.6</td>\n",
       "      <td>0.627</td>\n",
       "      <td>50</td>\n",
       "      <td>1</td>\n",
       "      <td>Positivo</td>\n",
       "    </tr>\n",
       "    <tr>\n",
       "      <th>1</th>\n",
       "      <td>1</td>\n",
       "      <td>85</td>\n",
       "      <td>66</td>\n",
       "      <td>29</td>\n",
       "      <td>0</td>\n",
       "      <td>26.6</td>\n",
       "      <td>0.351</td>\n",
       "      <td>31</td>\n",
       "      <td>0</td>\n",
       "      <td>Negativo</td>\n",
       "    </tr>\n",
       "    <tr>\n",
       "      <th>2</th>\n",
       "      <td>8</td>\n",
       "      <td>183</td>\n",
       "      <td>64</td>\n",
       "      <td>0</td>\n",
       "      <td>0</td>\n",
       "      <td>23.3</td>\n",
       "      <td>0.672</td>\n",
       "      <td>32</td>\n",
       "      <td>1</td>\n",
       "      <td>Positivo</td>\n",
       "    </tr>\n",
       "  </tbody>\n",
       "</table>\n",
       "</div>"
      ],
      "text/plain": [
       "   Gravidez  Glicose  Pressão Sanguínea  Espessura de Pele  Insulina   IMC  \\\n",
       "0         6      148                 72                 35         0  33.6   \n",
       "1         1       85                 66                 29         0  26.6   \n",
       "2         8      183                 64                  0         0  23.3   \n",
       "\n",
       "   Percentual Diabetes  Idade  Resultado    Status  \n",
       "0                0.627     50          1  Positivo  \n",
       "1                0.351     31          0  Negativo  \n",
       "2                0.672     32          1  Positivo  "
      ]
     },
     "execution_count": 9,
     "metadata": {},
     "output_type": "execute_result"
    }
   ],
   "source": [
    "# criando coluna condicional com tipo de Status de Predição\n",
    "df['Status'] = df['Resultado'].apply(lambda Resultado: 'Negativo' if Resultado == 0 else 'Positivo')\n",
    "df.head(3)"
   ]
  },
  {
   "cell_type": "code",
   "execution_count": 11,
   "id": "252f3d0e",
   "metadata": {},
   "outputs": [
    {
     "data": {
      "text/plain": [
       "count    768.000000\n",
       "mean      33.240885\n",
       "std       11.760232\n",
       "min       21.000000\n",
       "25%       24.000000\n",
       "50%       29.000000\n",
       "75%       41.000000\n",
       "max       81.000000\n",
       "Name: Idade, dtype: float64"
      ]
     },
     "execution_count": 11,
     "metadata": {},
     "output_type": "execute_result"
    }
   ],
   "source": [
    "# explorando estatística básica de idades dos pacientes\n",
    "df['Idade'].describe()"
   ]
  },
  {
   "cell_type": "code",
   "execution_count": 12,
   "id": "e1753299",
   "metadata": {},
   "outputs": [
    {
     "name": "stdout",
     "output_type": "stream",
     "text": [
      "A proporção de pacientes com diabetes é de: 35.0 %\n"
     ]
    }
   ],
   "source": [
    "# proporção de pacientes com diabetes\n",
    "dbt_positivo = df['Resultado'] == 1\n",
    "pacientes_com_diabetes = df[dbt_positivo].value_counts().sum()\n",
    "total_pacientes = df.value_counts().sum()\n",
    "print(\"A proporção de pacientes com diabetes é de:\",round((pacientes_com_diabetes/total_pacientes),2)*100,'%')"
   ]
  },
  {
   "cell_type": "markdown",
   "id": "699eb090",
   "metadata": {},
   "source": [
    "### Visualização dos Dados"
   ]
  },
  {
   "cell_type": "code",
   "execution_count": 13,
   "id": "cbf1449d",
   "metadata": {},
   "outputs": [
    {
     "data": {
      "text/plain": [
       "<BarContainer object of 768 artists>"
      ]
     },
     "execution_count": 13,
     "metadata": {},
     "output_type": "execute_result"
    },
    {
     "data": {
      "image/png": "[encoded data removed]",
      "text/plain": [
       "<Figure size 640x480 with 1 Axes>"
      ]
     },
     "metadata": {},
     "output_type": "display_data"
    }
   ],
   "source": [
    "# Análise exploratória de gravidez por faixa de idade\n",
    "plt.bar(df['Idade'], df['Gravidez'],width=0.8, color = 'green', label = \"Idade\")"
   ]
  },
  {
   "cell_type": "code",
   "execution_count": 16,
   "id": "77af020a",
   "metadata": {
    "scrolled": true
   },
   "outputs": [
    {
     "data": {
      "image/png": "[encoded data removed]",
      "text/plain": [
       "<Figure size 1000x1000 with 9 Axes>"
      ]
     },
     "metadata": {},
     "output_type": "display_data"
    }
   ],
   "source": [
    "# Visualização geral em histograma\n",
    "\n",
    "df.hist(figsize = (10,10))\n",
    "plt.show()"
   ]
  },
  {
   "cell_type": "code",
   "execution_count": 17,
   "id": "047d050f",
   "metadata": {},
   "outputs": [
    {
     "data": {
      "text/plain": [
       "Gravidez                  11.354056\n",
       "Glicose                 1022.248314\n",
       "Pressão Sanguínea        374.647271\n",
       "Espessura de Pele        254.473245\n",
       "Insulina               13281.180078\n",
       "IMC                       62.159984\n",
       "Percentual Diabetes        0.109779\n",
       "Idade                    138.303046\n",
       "Resultado                  0.227483\n",
       "dtype: float64"
      ]
     },
     "execution_count": 17,
     "metadata": {},
     "output_type": "execute_result"
    }
   ],
   "source": [
    "# Desvio Padrão\n",
    "df_estatistica = df.drop(columns = \"Status\")\n",
    "df_estatistica.var()"
   ]
  },
  {
   "cell_type": "markdown",
   "id": "064f72b9",
   "metadata": {},
   "source": [
    "###  Data Preprocessing"
   ]
  },
  {
   "cell_type": "code",
   "execution_count": 18,
   "id": "336d68fd",
   "metadata": {},
   "outputs": [
    {
     "name": "stderr",
     "output_type": "stream",
     "text": [
      "C:\\Users\\feito\\AppData\\Local\\Temp\\ipykernel_16280\\1112170701.py:6: DeprecationWarning: the `interpolation=` argument to percentile was renamed to `method=`, which has additional options.\n",
      "Users of the modes 'nearest', 'lower', 'higher', or 'midpoint' are encouraged to review the method they used. (Deprecated NumPy 1.22)\n",
      "  Q1 = np.percentile(df[coluna], 25, interpolation='midpoint')\n",
      "C:\\Users\\feito\\AppData\\Local\\Temp\\ipykernel_16280\\1112170701.py:7: DeprecationWarning: the `interpolation=` argument to percentile was renamed to `method=`, which has additional options.\n",
      "Users of the modes 'nearest', 'lower', 'higher', or 'midpoint' are encouraged to review the method they used. (Deprecated NumPy 1.22)\n",
      "  Q3 = np.percentile(df[coluna], 75, interpolation='midpoint')\n"
     ]
    }
   ],
   "source": [
    "# tratamento de valores discrepantes\n",
    "\n",
    "colunas_numericas = ['Insulina', 'Percentual Diabetes',]\n",
    "\n",
    "for coluna in colunas_numericas:\n",
    "    Q1 = np.percentile(df[coluna], 25, interpolation='midpoint')\n",
    "    Q3 = np.percentile(df[coluna], 75, interpolation='midpoint')\n",
    "\n",
    "    IQR = Q3 - Q1\n",
    "    low_lim = Q1 - 1.5 * IQR\n",
    "    up_lim = Q3 + 1.5 * IQR\n",
    "\n",
    "    # encontrando discrepância na colunas específica\n",
    "    outliers = df[(df[coluna] < low_lim) | (df[coluna] > up_lim)][coluna]\n",
    "\n",
    "    # substituindo discrepâncias com os respectivos limites mínimos e maximos\n",
    "    df[coluna] = np.where(df[coluna] < low_lim, low_lim, df[coluna])\n",
    "    df[coluna] = np.where(df[coluna] > up_lim, up_lim, df[coluna])"
   ]
  },
  {
   "cell_type": "code",
   "execution_count": 19,
   "id": "32fedb19",
   "metadata": {},
   "outputs": [
    {
     "data": {
      "text/plain": [
       "0      0.627\n",
       "1      0.351\n",
       "2      0.672\n",
       "3      0.167\n",
       "4      1.201\n",
       "       ...  \n",
       "763    0.171\n",
       "764    0.340\n",
       "765    0.245\n",
       "766    0.349\n",
       "767    0.315\n",
       "Name: Percentual Diabetes, Length: 768, dtype: float64"
      ]
     },
     "execution_count": 19,
     "metadata": {},
     "output_type": "execute_result"
    }
   ],
   "source": [
    "df[coluna]"
   ]
  },
  {
   "cell_type": "markdown",
   "id": "d3938229",
   "metadata": {},
   "source": [
    "### Machine Learning"
   ]
  },
  {
   "cell_type": "code",
   "execution_count": 20,
   "id": "b9a989e9",
   "metadata": {},
   "outputs": [
    {
     "data": {
      "text/html": [
       "<div>\n",
       "<style scoped>\n",
       "    .dataframe tbody tr th:only-of-type {\n",
       "        vertical-align: middle;\n",
       "    }\n",
       "\n",
       "    .dataframe tbody tr th {\n",
       "        vertical-align: top;\n",
       "    }\n",
       "\n",
       "    .dataframe thead th {\n",
       "        text-align: right;\n",
       "    }\n",
       "</style>\n",
       "<table border=\"1\" class=\"dataframe\">\n",
       "  <thead>\n",
       "    <tr style=\"text-align: right;\">\n",
       "      <th></th>\n",
       "      <th>Gravidez</th>\n",
       "      <th>Glicose</th>\n",
       "      <th>Pressão Sanguínea</th>\n",
       "      <th>Espessura de Pele</th>\n",
       "      <th>Insulina</th>\n",
       "      <th>IMC</th>\n",
       "      <th>Percentual Diabetes</th>\n",
       "      <th>Idade</th>\n",
       "    </tr>\n",
       "  </thead>\n",
       "  <tbody>\n",
       "    <tr>\n",
       "      <th>0</th>\n",
       "      <td>6</td>\n",
       "      <td>148</td>\n",
       "      <td>72</td>\n",
       "      <td>35</td>\n",
       "      <td>0.0</td>\n",
       "      <td>33.6</td>\n",
       "      <td>0.627</td>\n",
       "      <td>50</td>\n",
       "    </tr>\n",
       "    <tr>\n",
       "      <th>1</th>\n",
       "      <td>1</td>\n",
       "      <td>85</td>\n",
       "      <td>66</td>\n",
       "      <td>29</td>\n",
       "      <td>0.0</td>\n",
       "      <td>26.6</td>\n",
       "      <td>0.351</td>\n",
       "      <td>31</td>\n",
       "    </tr>\n",
       "    <tr>\n",
       "      <th>2</th>\n",
       "      <td>8</td>\n",
       "      <td>183</td>\n",
       "      <td>64</td>\n",
       "      <td>0</td>\n",
       "      <td>0.0</td>\n",
       "      <td>23.3</td>\n",
       "      <td>0.672</td>\n",
       "      <td>32</td>\n",
       "    </tr>\n",
       "    <tr>\n",
       "      <th>3</th>\n",
       "      <td>1</td>\n",
       "      <td>89</td>\n",
       "      <td>66</td>\n",
       "      <td>23</td>\n",
       "      <td>94.0</td>\n",
       "      <td>28.1</td>\n",
       "      <td>0.167</td>\n",
       "      <td>21</td>\n",
       "    </tr>\n",
       "    <tr>\n",
       "      <th>4</th>\n",
       "      <td>0</td>\n",
       "      <td>137</td>\n",
       "      <td>40</td>\n",
       "      <td>35</td>\n",
       "      <td>168.0</td>\n",
       "      <td>43.1</td>\n",
       "      <td>1.201</td>\n",
       "      <td>33</td>\n",
       "    </tr>\n",
       "    <tr>\n",
       "      <th>...</th>\n",
       "      <td>...</td>\n",
       "      <td>...</td>\n",
       "      <td>...</td>\n",
       "      <td>...</td>\n",
       "      <td>...</td>\n",
       "      <td>...</td>\n",
       "      <td>...</td>\n",
       "      <td>...</td>\n",
       "    </tr>\n",
       "    <tr>\n",
       "      <th>763</th>\n",
       "      <td>10</td>\n",
       "      <td>101</td>\n",
       "      <td>76</td>\n",
       "      <td>48</td>\n",
       "      <td>180.0</td>\n",
       "      <td>32.9</td>\n",
       "      <td>0.171</td>\n",
       "      <td>63</td>\n",
       "    </tr>\n",
       "    <tr>\n",
       "      <th>764</th>\n",
       "      <td>2</td>\n",
       "      <td>122</td>\n",
       "      <td>70</td>\n",
       "      <td>27</td>\n",
       "      <td>0.0</td>\n",
       "      <td>36.8</td>\n",
       "      <td>0.340</td>\n",
       "      <td>27</td>\n",
       "    </tr>\n",
       "    <tr>\n",
       "      <th>765</th>\n",
       "      <td>5</td>\n",
       "      <td>121</td>\n",
       "      <td>72</td>\n",
       "      <td>23</td>\n",
       "      <td>112.0</td>\n",
       "      <td>26.2</td>\n",
       "      <td>0.245</td>\n",
       "      <td>30</td>\n",
       "    </tr>\n",
       "    <tr>\n",
       "      <th>766</th>\n",
       "      <td>1</td>\n",
       "      <td>126</td>\n",
       "      <td>60</td>\n",
       "      <td>0</td>\n",
       "      <td>0.0</td>\n",
       "      <td>30.1</td>\n",
       "      <td>0.349</td>\n",
       "      <td>47</td>\n",
       "    </tr>\n",
       "    <tr>\n",
       "      <th>767</th>\n",
       "      <td>1</td>\n",
       "      <td>93</td>\n",
       "      <td>70</td>\n",
       "      <td>31</td>\n",
       "      <td>0.0</td>\n",
       "      <td>30.4</td>\n",
       "      <td>0.315</td>\n",
       "      <td>23</td>\n",
       "    </tr>\n",
       "  </tbody>\n",
       "</table>\n",
       "<p>768 rows × 8 columns</p>\n",
       "</div>"
      ],
      "text/plain": [
       "     Gravidez  Glicose  Pressão Sanguínea  Espessura de Pele  Insulina   IMC  \\\n",
       "0           6      148                 72                 35       0.0  33.6   \n",
       "1           1       85                 66                 29       0.0  26.6   \n",
       "2           8      183                 64                  0       0.0  23.3   \n",
       "3           1       89                 66                 23      94.0  28.1   \n",
       "4           0      137                 40                 35     168.0  43.1   \n",
       "..        ...      ...                ...                ...       ...   ...   \n",
       "763        10      101                 76                 48     180.0  32.9   \n",
       "764         2      122                 70                 27       0.0  36.8   \n",
       "765         5      121                 72                 23     112.0  26.2   \n",
       "766         1      126                 60                  0       0.0  30.1   \n",
       "767         1       93                 70                 31       0.0  30.4   \n",
       "\n",
       "     Percentual Diabetes  Idade  \n",
       "0                  0.627     50  \n",
       "1                  0.351     31  \n",
       "2                  0.672     32  \n",
       "3                  0.167     21  \n",
       "4                  1.201     33  \n",
       "..                   ...    ...  \n",
       "763                0.171     63  \n",
       "764                0.340     27  \n",
       "765                0.245     30  \n",
       "766                0.349     47  \n",
       "767                0.315     23  \n",
       "\n",
       "[768 rows x 8 columns]"
      ]
     },
     "execution_count": 20,
     "metadata": {},
     "output_type": "execute_result"
    }
   ],
   "source": [
    "# dataset input\n",
    "x_atributo = df.drop(columns = ['Status', 'Resultado']) \n",
    "x_atributo"
   ]
  },
  {
   "cell_type": "code",
   "execution_count": 21,
   "id": "84b65d51",
   "metadata": {},
   "outputs": [
    {
     "data": {
      "text/plain": [
       "0      1\n",
       "1      0\n",
       "2      1\n",
       "3      0\n",
       "4      1\n",
       "      ..\n",
       "763    0\n",
       "764    0\n",
       "765    0\n",
       "766    1\n",
       "767    0\n",
       "Name: Resultado, Length: 768, dtype: int64"
      ]
     },
     "execution_count": 21,
     "metadata": {},
     "output_type": "execute_result"
    }
   ],
   "source": [
    "# dataset output\n",
    "y_rotulo= df.loc[:, 'Resultado']\n",
    "y_rotulo"
   ]
  },
  {
   "cell_type": "code",
   "execution_count": 22,
   "id": "b3de22ca",
   "metadata": {},
   "outputs": [],
   "source": [
    "# excluindo dados para treinamento\n",
    "from sklearn.model_selection import train_test_split\n",
    "\n",
    "X_train, X_test, y_train, y_test = train_test_split(x_atributo,y_rotulo, test_size = 0.20)"
   ]
  },
  {
   "cell_type": "code",
   "execution_count": 23,
   "id": "bb7e3505",
   "metadata": {},
   "outputs": [],
   "source": [
    "# definição do algoritmo\n",
    "modelo = tr.DecisionTreeClassifier(max_depth = 3)\n",
    "\n",
    "# treinamento do algoritmo\n",
    "modelo_treinado = modelo.fit(X_train, y_train)"
   ]
  },
  {
   "cell_type": "code",
   "execution_count": 24,
   "id": "dc445bff",
   "metadata": {},
   "outputs": [
    {
     "name": "stdout",
     "output_type": "stream",
     "text": [
      "Acurácia do treinamento: 0.79 %\n",
      "Validação da acurácia: 0.73 %\n"
     ]
    }
   ],
   "source": [
    "train_accuracy = modelo.score(X_train, y_train)\n",
    "val_accuracy = modelo.score(X_test, y_test)\n",
    "print('Acurácia do treinamento:',round(train_accuracy,2),\"%\")\n",
    "print('Validação da acurácia:',round(val_accuracy,2),'%')"
   ]
  },
  {
   "cell_type": "code",
   "execution_count": 25,
   "id": "45bd27c3",
   "metadata": {
    "scrolled": true
   },
   "outputs": [
    {
     "data": {
      "image/png": "[encoded data removed]",
      "text/plain": [
       "<Figure size 640x480 with 1 Axes>"
      ]
     },
     "metadata": {},
     "output_type": "display_data"
    }
   ],
   "source": [
    "tr.plot_tree(modelo_treinado, filled = True);"
   ]
  },
  {
   "cell_type": "code",
   "execution_count": 37,
   "id": "e6d69e36",
   "metadata": {},
   "outputs": [
    {
     "data": {
      "text/html": [
       "<div>\n",
       "<style scoped>\n",
       "    .dataframe tbody tr th:only-of-type {\n",
       "        vertical-align: middle;\n",
       "    }\n",
       "\n",
       "    .dataframe tbody tr th {\n",
       "        vertical-align: top;\n",
       "    }\n",
       "\n",
       "    .dataframe thead th {\n",
       "        text-align: right;\n",
       "    }\n",
       "</style>\n",
       "<table border=\"1\" class=\"dataframe\">\n",
       "  <thead>\n",
       "    <tr style=\"text-align: right;\">\n",
       "      <th></th>\n",
       "      <th>Gravidez</th>\n",
       "      <th>Glicose</th>\n",
       "      <th>Pressão Sanguínea</th>\n",
       "      <th>Espessura de Pele</th>\n",
       "      <th>Insulina</th>\n",
       "      <th>IMC</th>\n",
       "      <th>Percentual Diabetes</th>\n",
       "      <th>Idade</th>\n",
       "    </tr>\n",
       "  </thead>\n",
       "  <tbody>\n",
       "    <tr>\n",
       "      <th>14</th>\n",
       "      <td>5</td>\n",
       "      <td>166</td>\n",
       "      <td>72</td>\n",
       "      <td>19</td>\n",
       "      <td>175.0</td>\n",
       "      <td>25.8</td>\n",
       "      <td>0.587</td>\n",
       "      <td>51</td>\n",
       "    </tr>\n",
       "  </tbody>\n",
       "</table>\n",
       "</div>"
      ],
      "text/plain": [
       "    Gravidez  Glicose  Pressão Sanguínea  Espessura de Pele  Insulina   IMC  \\\n",
       "14         5      166                 72                 19     175.0  25.8   \n",
       "\n",
       "    Percentual Diabetes  Idade  \n",
       "14                0.587     51  "
      ]
     },
     "execution_count": 37,
     "metadata": {},
     "output_type": "execute_result"
    }
   ],
   "source": [
    "# testando uma observação aleatória\n",
    "x_novo = X_train.sample()\n",
    "x_novo"
   ]
  },
  {
   "cell_type": "code",
   "execution_count": 38,
   "id": "75a7a69b",
   "metadata": {},
   "outputs": [
    {
     "name": "stdout",
     "output_type": "stream",
     "text": [
      "Probabilidade do paciente ter diabetes - Negativo: 45% - Positivo: 55%\n"
     ]
    }
   ],
   "source": [
    "# probabilidade do paciente ter predisposição a diabetes\n",
    "# (o resultado da probabilidade é em ordem alfabética)\n",
    "previsao = modelo_treinado.predict_proba(x_novo)\n",
    "previsao\n",
    "print(\"Probabilidade do paciente ter diabetes - Negativo: {:.0f}% - Positivo: {:.0f}%\".format(100*previsao[0][0],100*previsao[0][1]))"
   ]
  },
  {
   "cell_type": "markdown",
   "id": "406cc956",
   "metadata": {},
   "source": [
    "### Apresentação do Projeto"
   ]
  },
  {
   "cell_type": "code",
   "execution_count": null,
   "id": "628cb870",
   "metadata": {},
   "outputs": [
    {
     "name": "stdout",
     "output_type": "stream",
     "text": [
      "Running on local URL:  http://127.0.0.1:7860\n",
      "\n",
      "To create a public link, set `share=True` in `launch()`.\n"
     ]
    },
    {
     "data": {
      "text/html": [
       "<div><iframe src=\"http://127.0.0.1:7860/\" width=\"100%\" height=\"500\" allow=\"autoplay; camera; microphone; clipboard-read; clipboard-write;\" frameborder=\"0\" allowfullscreen></iframe></div>"
      ],
      "text/plain": [
       "<IPython.core.display.HTML object>"
      ]
     },
     "metadata": {},
     "output_type": "display_data"
    },
    {
     "name": "stderr",
     "output_type": "stream",
     "text": [
      "C:\\Users\\feito\\anaconda3\\Lib\\site-packages\\sklearn\\base.py:464: UserWarning: X does not have valid feature names, but DecisionTreeClassifier was fitted with feature names\n",
      "  warnings.warn(\n",
      "C:\\Users\\feito\\anaconda3\\Lib\\site-packages\\sklearn\\base.py:464: UserWarning: X does not have valid feature names, but DecisionTreeClassifier was fitted with feature names\n",
      "  warnings.warn(\n",
      "C:\\Users\\feito\\anaconda3\\Lib\\site-packages\\sklearn\\base.py:464: UserWarning: X does not have valid feature names, but DecisionTreeClassifier was fitted with feature names\n",
      "  warnings.warn(\n",
      "C:\\Users\\feito\\anaconda3\\Lib\\site-packages\\sklearn\\base.py:464: UserWarning: X does not have valid feature names, but DecisionTreeClassifier was fitted with feature names\n",
      "  warnings.warn(\n",
      "C:\\Users\\feito\\anaconda3\\Lib\\site-packages\\sklearn\\base.py:464: UserWarning: X does not have valid feature names, but DecisionTreeClassifier was fitted with feature names\n",
      "  warnings.warn(\n",
      "C:\\Users\\feito\\anaconda3\\Lib\\site-packages\\sklearn\\base.py:464: UserWarning: X does not have valid feature names, but DecisionTreeClassifier was fitted with feature names\n",
      "  warnings.warn(\n",
      "C:\\Users\\feito\\anaconda3\\Lib\\site-packages\\sklearn\\base.py:464: UserWarning: X does not have valid feature names, but DecisionTreeClassifier was fitted with feature names\n",
      "  warnings.warn(\n",
      "C:\\Users\\feito\\anaconda3\\Lib\\site-packages\\sklearn\\base.py:464: UserWarning: X does not have valid feature names, but DecisionTreeClassifier was fitted with feature names\n",
      "  warnings.warn(\n",
      "C:\\Users\\feito\\anaconda3\\Lib\\site-packages\\sklearn\\base.py:464: UserWarning: X does not have valid feature names, but DecisionTreeClassifier was fitted with feature names\n",
      "  warnings.warn(\n",
      "C:\\Users\\feito\\anaconda3\\Lib\\site-packages\\sklearn\\base.py:464: UserWarning: X does not have valid feature names, but DecisionTreeClassifier was fitted with feature names\n",
      "  warnings.warn(\n",
      "C:\\Users\\feito\\anaconda3\\Lib\\site-packages\\sklearn\\base.py:464: UserWarning: X does not have valid feature names, but DecisionTreeClassifier was fitted with feature names\n",
      "  warnings.warn(\n",
      "C:\\Users\\feito\\anaconda3\\Lib\\site-packages\\sklearn\\base.py:464: UserWarning: X does not have valid feature names, but DecisionTreeClassifier was fitted with feature names\n",
      "  warnings.warn(\n",
      "C:\\Users\\feito\\anaconda3\\Lib\\site-packages\\sklearn\\base.py:464: UserWarning: X does not have valid feature names, but DecisionTreeClassifier was fitted with feature names\n",
      "  warnings.warn(\n",
      "C:\\Users\\feito\\anaconda3\\Lib\\site-packages\\sklearn\\base.py:464: UserWarning: X does not have valid feature names, but DecisionTreeClassifier was fitted with feature names\n",
      "  warnings.warn(\n",
      "C:\\Users\\feito\\anaconda3\\Lib\\site-packages\\sklearn\\base.py:464: UserWarning: X does not have valid feature names, but DecisionTreeClassifier was fitted with feature names\n",
      "  warnings.warn(\n",
      "C:\\Users\\feito\\anaconda3\\Lib\\site-packages\\sklearn\\base.py:464: UserWarning: X does not have valid feature names, but DecisionTreeClassifier was fitted with feature names\n",
      "  warnings.warn(\n",
      "C:\\Users\\feito\\anaconda3\\Lib\\site-packages\\sklearn\\base.py:464: UserWarning: X does not have valid feature names, but DecisionTreeClassifier was fitted with feature names\n",
      "  warnings.warn(\n",
      "C:\\Users\\feito\\anaconda3\\Lib\\site-packages\\sklearn\\base.py:464: UserWarning: X does not have valid feature names, but DecisionTreeClassifier was fitted with feature names\n",
      "  warnings.warn(\n",
      "C:\\Users\\feito\\anaconda3\\Lib\\site-packages\\sklearn\\base.py:464: UserWarning: X does not have valid feature names, but DecisionTreeClassifier was fitted with feature names\n",
      "  warnings.warn(\n"
     ]
    }
   ],
   "source": [
    "# recebendo as entradas do usuário e execução do algoritmo de previsão\n",
    "def predict(*args):\n",
    "    x_novo = np.array( [args]).reshape(1,-1)\n",
    "    previsao = modelo_treinado.predict_proba(x_novo)\n",
    "    \n",
    "    return {\"Negativo\":previsao[0][0], \"Positivo\":previsao[0][1]}\n",
    "\n",
    "with gr.Blocks(theme='freddyaboulton/dracula_revamped') as demo:\n",
    "    #titulo do painel\n",
    "    gr.Markdown( \"\"\" # Predição de Diabetes em Paciente\"\"\" )\n",
    "    \n",
    "    with gr.Row():\n",
    "        with gr.Column():\n",
    "            gr.Markdown( \"\"\" ## Característica do paciente \"\"\" )\n",
    "            idade = gr.Slider(label = \"Idade\", minimum = 21, maximum = 81, step = 1, randomize = True)\n",
    "            gravidez = gr.Slider(label = \"Gravidez\", minimum = 0, maximum = 17, step = 1, randomize = True)\n",
    "            glicose = gr.Slider(label = \"Glicose\", minimum = 0, maximum = 199, step = 1, randomize = True)\n",
    "            pressao = gr.Slider(label = \"Pressão Sanguínea\", minimum = 0, maximum = 122, step = 1, randomize = True)\n",
    "            pele = gr.Slider(label = \"Espessura da Pele\", minimum = 0, maximum = 99, step = 1, randomize = True)\n",
    "            insulina = gr.Slider(label = \"Insulina\", minimum = 0, maximum = 846, step = 1, randomize = True)\n",
    "            imc = gr.Slider(label = \"IMC\", minimum = 0, maximum = 67.10, step = 1, randomize = True)\n",
    "            diabetes = gr.Slider(label = \"Percentual Diabetes\", minimum = 0.078, maximum = 2.420, step = 0.01, randomize = True)\n",
    "                    \n",
    "             \n",
    "            with gr.Row():\n",
    "                gr.Markdown(\"\"\"# \"\"\")\n",
    "                predict_btn = gr.Button(value = \"Predição\")\n",
    "                \n",
    "        with gr.Column():\n",
    "            gr.Markdown(\"\"\" ## Predição do Paciente desenvolver Diabetes\"\"\")\n",
    "            label = gr.Label()\n",
    "#botão predict\n",
    "    predict_btn.click(\n",
    "        fn=predict,\n",
    "        inputs=[idade,\n",
    "                gravidez,\n",
    "                glicose,\n",
    "                pressao,\n",
    "                pele,\n",
    "                insulina,\n",
    "                imc,\n",
    "                diabetes\n",
    "        ], outputs = [label])\n",
    "    \n",
    "demo.launch(debug = True, share = False)"
   ]
  }
 ],
 "metadata": {
  "kernelspec": {
   "display_name": "Python 3 (ipykernel)",
   "language": "python",
   "name": "python3"
  },
  "language_info": {
   "codemirror_mode": {
    "name": "ipython",
    "version": 3
   },
   "file_extension": ".py",
   "mimetype": "text/x-python",
   "name": "python",
   "nbconvert_exporter": "python",
   "pygments_lexer": "ipython3",
   "version": "3.11.5"
  }
 },
 "nbformat": 4,
 "nbformat_minor": 5
}
